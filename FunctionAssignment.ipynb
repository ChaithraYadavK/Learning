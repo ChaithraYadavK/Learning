{
 "cells": [
  {
   "cell_type": "markdown",
   "id": "b4e60ff0",
   "metadata": {},
   "source": [
    "# write a function which will try to find out len of a string without using an inbuilt len function  "
   ]
  },
  {
   "cell_type": "code",
   "execution_count": 2,
   "id": "e960a7f0",
   "metadata": {},
   "outputs": [],
   "source": [
    "def test1(n):\n",
    "    \n",
    "    count = 0\n",
    "    for i in n:\n",
    "        count += 1\n",
    "    return count\n",
    "    "
   ]
  },
  {
   "cell_type": "code",
   "execution_count": 6,
   "id": "da0d6404",
   "metadata": {},
   "outputs": [
    {
     "data": {
      "text/plain": [
       "6"
      ]
     },
     "execution_count": 6,
     "metadata": {},
     "output_type": "execute_result"
    }
   ],
   "source": [
    "test1(\"string\")"
   ]
  },
  {
   "cell_type": "markdown",
   "id": "84ae5d52",
   "metadata": {},
   "source": [
    "# write a function which  will be able to print an index of list element without using an index function"
   ]
  },
  {
   "cell_type": "code",
   "execution_count": 22,
   "id": "022f9943",
   "metadata": {},
   "outputs": [],
   "source": [
    "def test2(n):\n",
    "    \n",
    "    for index,val in enumerate(n):\n",
    "        print(index)"
   ]
  },
  {
   "cell_type": "code",
   "execution_count": 23,
   "id": "19340bdd",
   "metadata": {},
   "outputs": [
    {
     "name": "stdout",
     "output_type": "stream",
     "text": [
      "0\n",
      "1\n",
      "2\n",
      "3\n",
      "4\n"
     ]
    }
   ],
   "source": [
    "list = [\"sunday\",\"right\",3,4,6.5]\n",
    "test2(list)"
   ]
  },
  {
   "cell_type": "markdown",
   "id": "27254ffe",
   "metadata": {},
   "source": [
    "#  write a function which will be able to print an ip address of your system"
   ]
  },
  {
   "cell_type": "code",
   "execution_count": 26,
   "id": "19b063ff",
   "metadata": {},
   "outputs": [],
   "source": [
    "import socket\n",
    "\n",
    "def getipaddress():\n",
    "    \n",
    "    hostname = socket.gethostname()\n",
    "    ip_address = socket.gethostbyname(hostname)\n",
    "\n",
    "    print(\"hostname :\",hostname)\n",
    "    print(\"ip address :\",ip_address)"
   ]
  },
  {
   "cell_type": "code",
   "execution_count": 27,
   "id": "ad1d1e78",
   "metadata": {},
   "outputs": [
    {
     "name": "stdout",
     "output_type": "stream",
     "text": [
      "hostname : LAPTOP-BHGM9SF0\n",
      "ip address : 192.168.0.188\n"
     ]
    }
   ],
   "source": [
    "getipaddress()"
   ]
  },
  {
   "cell_type": "markdown",
   "id": "51453d03",
   "metadata": {},
   "source": [
    "#  write a function which will shutdown your system"
   ]
  },
  {
   "cell_type": "code",
   "execution_count": 30,
   "id": "d869717a",
   "metadata": {},
   "outputs": [
    {
     "name": "stdout",
     "output_type": "stream",
     "text": [
      "Shut down the computer(yes/no)?:no\n"
     ]
    }
   ],
   "source": [
    "import os\n",
    "\n",
    "ans = input(\"Shut down the computer(yes/no)?:\")\n",
    "\n",
    "def shutdowncomp(ans):\n",
    "\n",
    "    if ans == \"no\":\n",
    "        exit()\n",
    "    else:\n",
    "        os.system(\"shutdown /s /t 1\")"
   ]
  },
  {
   "cell_type": "markdown",
   "id": "731327bc",
   "metadata": {},
   "source": [
    "# write a function which will take input as a list with any kind of numeric value and give an out as a multiplication of all the numeric data l = [3.5, 6.56, 4,5,\"sudh\" , \"ineuron\" , 'fsda bootcamp 2.0']"
   ]
  },
  {
   "cell_type": "code",
   "execution_count": 37,
   "id": "43d82a71",
   "metadata": {},
   "outputs": [],
   "source": [
    "def multiplication(n):\n",
    "    \"\"\"multiplication all numeric data in the list\"\"\"\n",
    "    result = 1\n",
    "    for i in n:\n",
    "        if type(i) == int or type(i) == float:\n",
    "            result = result*i\n",
    "    return result"
   ]
  },
  {
   "cell_type": "code",
   "execution_count": 38,
   "id": "51ad1b5c",
   "metadata": {},
   "outputs": [
    {
     "data": {
      "text/plain": [
       "459.19999999999993"
      ]
     },
     "execution_count": 38,
     "metadata": {},
     "output_type": "execute_result"
    }
   ],
   "source": [
    "list = [3.5, 6.56, 4,5,\"sudh\" , \"ineuron\" , 'fsda bootcamp 2.0']\n",
    "multiplication(list)"
   ]
  }
 ],
 "metadata": {
  "kernelspec": {
   "display_name": "Python 3 (ipykernel)",
   "language": "python",
   "name": "python3"
  },
  "language_info": {
   "codemirror_mode": {
    "name": "ipython",
    "version": 3
   },
   "file_extension": ".py",
   "mimetype": "text/x-python",
   "name": "python",
   "nbconvert_exporter": "python",
   "pygments_lexer": "ipython3",
   "version": "3.9.7"
  }
 },
 "nbformat": 4,
 "nbformat_minor": 5
}
